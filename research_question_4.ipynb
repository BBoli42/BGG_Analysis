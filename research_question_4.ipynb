{
 "cells": [
  {
   "cell_type": "markdown",
   "id": "5ab1f975",
   "metadata": {},
   "source": [
    "# Research Question 4: Is there a recency bias in the rankings, resulting in newer versions of games being ranked higher than older versions.\n",
    "\n",
    "## Importing libraries"
   ]
  },
  {
   "cell_type": "code",
   "execution_count": 1,
   "id": "7befe64e",
   "metadata": {},
   "outputs": [],
   "source": [
    "import numpy as np\n",
    "import pandas as pd\n",
    "import seaborn as sns\n",
    "import matplotlib.pyplot as plt\n",
    "\n",
    "\n",
    "from scipy.stats import shapiro, anderson, jarque_bera, spearmanr, probplot\n",
    "import statsmodels.api as sm\n",
    "import statsmodels.formula.api as smf\n",
    "from statsmodels.stats.outliers_influence import variance_inflation_factor\n",
    "\n",
    "import sklearn\n",
    "from sklearn.model_selection import train_test_split\n",
    "from sklearn.metrics import accuracy_score, classification_report, precision_recall_curve"
   ]
  },
  {
   "cell_type": "markdown",
   "id": "d77b805d",
   "metadata": {},
   "source": [
    "## Loading dataframes"
   ]
  },
  {
   "cell_type": "code",
   "execution_count": 4,
   "id": "4d680622",
   "metadata": {},
   "outputs": [],
   "source": [
    "df_17 = pd.read_csv(f'data/2017/basic_data_2017.csv', index_col='Unnamed: 0', encoding='utf-8') \n",
    "df_23 = pd.read_csv(f'data/2023/basic_data_2023.csv', index_col='Unnamed: 0', encoding='utf-8')\n",
    "rank_id_17 = pd.read_csv(f'data/2017/rank_id.csv') \n",
    "rank_id_23 = pd.read_csv(f'data/2023/rank_id.csv')"
   ]
  },
  {
   "cell_type": "markdown",
   "id": "68ef9f67",
   "metadata": {},
   "source": [
    "## Scrape"
   ]
  },
  {
   "cell_type": "code",
   "execution_count": null,
   "id": "c9b43748",
   "metadata": {},
   "outputs": [],
   "source": [
    "game_ids_17 = "
   ]
  }
 ],
 "metadata": {
  "kernelspec": {
   "display_name": "Python 3 (ipykernel)",
   "language": "python",
   "name": "python3"
  },
  "language_info": {
   "codemirror_mode": {
    "name": "ipython",
    "version": 3
   },
   "file_extension": ".py",
   "mimetype": "text/x-python",
   "name": "python",
   "nbconvert_exporter": "python",
   "pygments_lexer": "ipython3",
   "version": "3.10.11"
  }
 },
 "nbformat": 4,
 "nbformat_minor": 5
}
