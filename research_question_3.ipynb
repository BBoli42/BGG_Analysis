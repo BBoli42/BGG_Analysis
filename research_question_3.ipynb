{
 "cells": [
  {
   "cell_type": "markdown",
   "id": "21d1b7e8",
   "metadata": {},
   "source": [
    "# Research Question 3: What are the major differences between the 2017 and 2023 datasets? What determines longevity/resilience of rankings?\n",
    "## Importing libraries"
   ]
  },
  {
   "cell_type": "code",
   "execution_count": 23,
   "id": "4e8d454b",
   "metadata": {},
   "outputs": [],
   "source": [
    "import numpy as np\n",
    "import pandas as pd\n",
    "import seaborn as sns\n",
    "import matplotlib.pyplot as plt\n",
    "\n",
    "\n",
    "from scipy.stats import shapiro, anderson, jarque_bera, spearmanr, probplot\n",
    "import statsmodels.api as sm\n",
    "import statsmodels.formula.api as smf\n",
    "from statsmodels.stats.outliers_influence import variance_inflation_factor\n",
    "\n",
    "import sklearn\n",
    "from sklearn.model_selection import train_test_split\n",
    "from sklearn.metrics import accuracy_score, classification_report, precision_recall_curve"
   ]
  },
  {
   "cell_type": "markdown",
   "id": "95110934",
   "metadata": {},
   "source": [
    "## Loading/constructing Dataframes"
   ]
  },
  {
   "cell_type": "code",
   "execution_count": 3,
   "id": "497c0794",
   "metadata": {},
   "outputs": [],
   "source": [
    "df_17 = pd.read_csv(f'data/2017/basic_data_2017.csv', index_col='Unnamed: 0', encoding='utf-8') \n",
    "df_23 = pd.read_csv(f'data/2023/basic_data_2023.csv', index_col='Unnamed: 0', encoding='utf-8')"
   ]
  },
  {
   "cell_type": "code",
   "execution_count": 8,
   "id": "8249f556",
   "metadata": {
    "scrolled": true
   },
   "outputs": [
    {
     "name": "stdout",
     "output_type": "stream",
     "text": [
      "<class 'pandas.core.frame.DataFrame'>\n",
      "Int64Index: 1219 entries, 147 to 1214\n",
      "Data columns (total 7 columns):\n",
      " #   Column        Non-Null Count  Dtype\n",
      "---  ------        --------------  -----\n",
      " 0   game_id       1219 non-null   int64\n",
      " 1   rank_17       1219 non-null   int64\n",
      " 2   rank_23       1219 non-null   int64\n",
      " 3   num_votes_17  1219 non-null   int64\n",
      " 4   num_votes_23  1219 non-null   int64\n",
      " 5   rank_change   1219 non-null   int64\n",
      " 6   vote_change   1219 non-null   int64\n",
      "dtypes: int64(7)\n",
      "memory usage: 76.2 KB\n"
     ]
    }
   ],
   "source": [
    "df_merged = pd.merge(df_17, df_23, on='game_id', suffixes=('_17', '_23'))\n",
    "df_sorted = df_merged.sort_values('game_id')\n",
    "df = df_sorted[['game_id', 'rank_17', 'rank_23', 'num_votes_17', 'num_votes_23']].copy()\n",
    "df.loc[:,'rank_change'] = df['rank_17'] - df['rank_23']\n",
    "df.loc[:,'vote_change'] =  df['num_votes_23'] - df['num_votes_17']\n",
    "df.info()"
   ]
  },
  {
   "cell_type": "markdown",
   "id": "512ae19c",
   "metadata": {},
   "source": [
    "## EDA"
   ]
  },
  {
   "cell_type": "code",
   "execution_count": 10,
   "id": "dec6c175",
   "metadata": {},
   "outputs": [
    {
     "data": {
      "text/plain": [
       "<Axes: xlabel='rank_change', ylabel='Count'>"
      ]
     },
     "execution_count": 10,
     "metadata": {},
     "output_type": "execute_result"
    },
    {
     "data": {
      "image/png": "[encoded data removed]",
      "text/plain": [
       "<Figure size 640x480 with 1 Axes>"
      ]
     },
     "metadata": {},
     "output_type": "display_data"
    }
   ],
   "source": [
    "plt.title('Change in rank')\n",
    "sns.histplot(data=df, x='rank_change')"
   ]
  },
  {
   "cell_type": "code",
   "execution_count": 31,
   "id": "0d081150",
   "metadata": {},
   "outputs": [
    {
     "name": "stdout",
     "output_type": "stream",
     "text": [
      "stat=58.986\n",
      "Data does not follow normal at the 15.0% level\n",
      "Data does not follow normal at the 10.0% level\n",
      "Data does not follow normal at the 5.0% level\n",
      "Data does not follow normal at the 2.5% level\n",
      "Data does not follow normal at the 1.0% level\n"
     ]
    }
   ],
   "source": [
    "# Anderson-Darling\n",
    "result = anderson(df['rank_change'])\n",
    "print('stat=%.3f' % result.statistic)\n",
    "for i in range(len(result.critical_values)):\n",
    "    sl, cv = result.significance_level[i], result.critical_values[i]\n",
    "    if result.statistic < cv:\n",
    "        print('Data follows Normal at the %.1f%% level' % (sl))\n",
    "    else:\n",
    "        print('Data does not follow normal at the %.1f%% level' % (sl))"
   ]
  },
  {
   "cell_type": "code",
   "execution_count": 27,
   "id": "49d9b95f",
   "metadata": {},
   "outputs": [],
   "source": [
    "mask_17 = df_17[['game_id',\n",
    "                 'geek_rating',\n",
    "                 'min_players',\n",
    "                 'max_players',\n",
    "                 'avg_time',\n",
    "                 'min_time',\n",
    "                 'max_time',\n",
    "                 'num_votes',\n",
    "                 'weight']]\n",
    "mask_17 = mask_17.merge(df, on='game_id')\n",
    "mask_17['avg_players'] = (mask_17['max_players'] + mask_17['min_players'])/2"
   ]
  },
  {
   "cell_type": "code",
   "execution_count": 28,
   "id": "fc615cc5",
   "metadata": {},
   "outputs": [
    {
     "name": "stdout",
     "output_type": "stream",
     "text": [
      "game_id correlation with rank_change rho=0.373, p=0.000\n",
      "geek_rating correlation with rank_change rho=0.736, p=0.000\n",
      "min_players correlation with rank_change rho=-0.137, p=0.000\n",
      "max_players correlation with rank_change rho=0.038, p=0.190\n",
      "avg_time correlation with rank_change rho=0.069, p=0.015\n",
      "min_time correlation with rank_change rho=-0.060, p=0.038\n",
      "max_time correlation with rank_change rho=0.069, p=0.015\n",
      "num_votes correlation with rank_change rho=0.533, p=0.000\n",
      "weight correlation with rank_change rho=0.074, p=0.009\n",
      "rank_17 correlation with rank_change rho=-0.330, p=0.000\n",
      "rank_23 correlation with rank_change rho=-0.736, p=0.000\n",
      "num_votes_17 correlation with rank_change rho=0.121, p=0.000\n",
      "num_votes_23 correlation with rank_change rho=0.533, p=0.000\n",
      "rank_change correlation with rank_change rho=1.000, p=0.000\n",
      "vote_change correlation with rank_change rho=0.745, p=0.000\n",
      "avg_players correlation with rank_change rho=-0.012, p=0.681\n"
     ]
    }
   ],
   "source": [
    "for col in mask_17:\n",
    "    rho, p = spearmanr(mask_17['rank_change'], mask_17[col])\n",
    "    print(f'{col} correlation with rank_change', 'rho=%.3f, p=%.3f' % (rho,p))"
   ]
  },
  {
   "cell_type": "code",
   "execution_count": 30,
   "id": "382a5ecd",
   "metadata": {},
   "outputs": [
    {
     "name": "stdout",
     "output_type": "stream",
     "text": [
      "                            OLS Regression Results                            \n",
      "==============================================================================\n",
      "Dep. Variable:            rank_change   R-squared:                       0.039\n",
      "Model:                            OLS   Adj. R-squared:                  0.035\n",
      "Method:                 Least Squares   F-statistic:                     9.204\n",
      "Date:                Thu, 27 Jul 2023   Prob (F-statistic):           2.72e-07\n",
      "Time:                        13:50:53   Log-Likelihood:                -2772.3\n",
      "No. Observations:                 914   AIC:                             5555.\n",
      "Df Residuals:                     909   BIC:                             5579.\n",
      "Df Model:                           4                                         \n",
      "Covariance Type:            nonrobust                                         \n",
      "===============================================================================\n",
      "                  coef    std err          t      P>|t|      [0.025      0.975]\n",
      "-------------------------------------------------------------------------------\n",
      "const          -5.6171      0.813     -6.907      0.000      -7.213      -4.021\n",
      "avg_time       -0.0003      0.000     -0.891      0.373      -0.001       0.000\n",
      "min_players    -0.5346      0.238     -2.250      0.025      -1.001      -0.068\n",
      "num_votes    6.497e-05   1.21e-05      5.365      0.000    4.12e-05    8.87e-05\n",
      "weight          0.2656      0.213      1.250      0.212      -0.152       0.683\n",
      "==============================================================================\n",
      "Omnibus:                      415.282   Durbin-Watson:                   1.857\n",
      "Prob(Omnibus):                  0.000   Jarque-Bera (JB):             1517.743\n",
      "Skew:                           2.266   Prob(JB):                         0.00\n",
      "Kurtosis:                       7.394   Cond. No.                     8.59e+04\n",
      "==============================================================================\n",
      "\n",
      "Notes:\n",
      "[1] Standard Errors assume that the covariance matrix of the errors is correctly specified.\n",
      "[2] The condition number is large, 8.59e+04. This might indicate that there are\n",
      "strong multicollinearity or other numerical problems.\n",
      "   VIF Factor     features\n",
      "0        23.8        const\n",
      "1         1.1     avg_time\n",
      "2         1.0  min_players\n",
      "3         1.0    num_votes\n",
      "4         1.1       weight\n",
      "const         -99.636487\n",
      "avg_time       -0.034042\n",
      "min_players   -41.409924\n",
      "num_votes       0.006497\n",
      "weight         30.427839\n",
      "dtype: float64\n"
     ]
    }
   ],
   "source": [
    "features = mask_17[['avg_time',\n",
    "                   'min_players',\n",
    "                   'num_votes',\n",
    "                   'weight']]\n",
    "target = np.cbrt(mask_17['rank_change'])\n",
    "X = features\n",
    "y = target\n",
    "\n",
    "X_train, X_test, y_train, y_test = train_test_split(X, y, test_size=.25, random_state=42)\n",
    "\n",
    "model = sm.OLS(y_train, sm.add_constant(X_train)).fit()\n",
    "y_pred = model.predict(sm.add_constant(X_test))\n",
    "print(model.summary())\n",
    "\n",
    "#Check for Variance Inflation Factor (VIF) for Multicoolinearity Issues\n",
    "\n",
    "x_temp = sm.add_constant(X_train)\n",
    "\n",
    "vif = pd.DataFrame()\n",
    "vif[\"VIF Factor\"] = [variance_inflation_factor(x_temp.values, i) for i in range(x_temp.values.shape[1])]\n",
    "vif[\"features\"] = x_temp.columns\n",
    "print(vif.round(1))\n",
    "\n",
    "percent_effect = (np.exp(model.params) - 1) * 100\n",
    "print(percent_effect)"
   ]
  },
  {
   "cell_type": "code",
   "execution_count": null,
   "id": "cfd67d26",
   "metadata": {},
   "outputs": [],
   "source": []
  }
 ],
 "metadata": {
  "kernelspec": {
   "display_name": "Python 3 (ipykernel)",
   "language": "python",
   "name": "python3"
  },
  "language_info": {
   "codemirror_mode": {
    "name": "ipython",
    "version": 3
   },
   "file_extension": ".py",
   "mimetype": "text/x-python",
   "name": "python",
   "nbconvert_exporter": "python",
   "pygments_lexer": "ipython3",
   "version": "3.10.11"
  }
 },
 "nbformat": 4,
 "nbformat_minor": 5
}
