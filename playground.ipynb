{
 "cells": [
  {
   "cell_type": "markdown",
   "id": "87337393",
   "metadata": {
    "pycharm": {
     "name": "#%% md\n"
    }
   },
   "source": [
    "# EDA of BGG dataset\n",
    "### Import libraries"
   ]
  },
  {
   "cell_type": "code",
   "execution_count": 1,
   "id": "1017942b",
   "metadata": {
    "pycharm": {
     "name": "#%%\n"
    }
   },
   "outputs": [],
   "source": [
    "import pandas as pd\n",
    "import numpy as np\n",
    "import seaborn as sns\n",
    "import matplotlib.pyplot as plt\n",
    "import seaborn as sns\n",
    "import csv"
   ]
  },
  {
   "cell_type": "markdown",
   "id": "c4eee914",
   "metadata": {
    "pycharm": {
     "name": "#%% md\n"
    }
   },
   "source": [
    "### Loading DFs and adding index"
   ]
  },
  {
   "cell_type": "code",
   "execution_count": 2,
   "id": "b03033e7",
   "metadata": {
    "pycharm": {
     "name": "#%%\n"
    }
   },
   "outputs": [],
   "source": [
    "df_list = []\n",
    "\n",
    "sm_basic_df = pd.read_csv('data/2017/basic_data_2017.csv').reset_index(drop=True)\n",
    "sm_mech_df = pd.read_csv('data/2017/mechanics_2017.csv').reset_index(drop=True)\n",
    "sm_cat_df = pd.read_csv('data/2017/categories_2017.csv').reset_index(drop=True)\n",
    "# bg_basic_df = pd.read_csv('data/big/basic_data.csv').reset_index(drop=True)\n",
    "# bg_cat_df = pd.read_csv('data/big/categories_data.csv').reset_index(drop=True)\n",
    "# bg_mech_df = pd.read_csv('data/big/mechanics_data.csv').reset_index(drop=True)\n",
    "# bg_sub_df = pd.read_csv('data/big/subdomain_data.csv').reset_index(drop=True)\n",
    "\n",
    "# df_list.append(bg_basic_df)\n",
    "# df_list.extend((bg_cat_df, bg_mech_df, bg_sub_df))"
   ]
  },
  {
   "cell_type": "code",
   "execution_count": 3,
   "id": "2722c01a",
   "metadata": {
    "pycharm": {
     "name": "#%%\n"
    }
   },
   "outputs": [
    {
     "name": "stdout",
     "output_type": "stream",
     "text": [
      "<class 'pandas.core.frame.DataFrame'>\n",
      "RangeIndex: 4999 entries, 0 to 4998\n",
      "Data columns (total 19 columns):\n",
      " #   Column       Non-Null Count  Dtype  \n",
      "---  ------       --------------  -----  \n",
      " 0   Unnamed: 0   4999 non-null   int64  \n",
      " 1   rank         4999 non-null   int64  \n",
      " 2   bgg_url      4999 non-null   object \n",
      " 3   game_id      4999 non-null   int64  \n",
      " 4   name         4999 non-null   object \n",
      " 5   min_players  4999 non-null   int64  \n",
      " 6   max_players  4999 non-null   int64  \n",
      " 7   avg_time     4999 non-null   int64  \n",
      " 8   min_time     4999 non-null   int64  \n",
      " 9   max_time     4999 non-null   int64  \n",
      " 10  year         4999 non-null   int64  \n",
      " 11  avg_rating   4999 non-null   float64\n",
      " 12  geek_rating  4999 non-null   float64\n",
      " 13  num_votes    4999 non-null   int64  \n",
      " 14  image_url    4999 non-null   object \n",
      " 15  age          4999 non-null   int64  \n",
      " 16  owned        4999 non-null   int64  \n",
      " 17  designer     4999 non-null   object \n",
      " 18  weight       4999 non-null   float64\n",
      "dtypes: float64(3), int64(12), object(4)\n",
      "memory usage: 742.2+ KB\n"
     ]
    }
   ],
   "source": [
    "sm_basic_df.info()"
   ]
  },
  {
   "cell_type": "code",
   "execution_count": null,
   "id": "d9b2ac11",
   "metadata": {
    "pycharm": {
     "name": "#%%\n"
    }
   },
   "outputs": [],
   "source": [
    "sm_cat_df.columns"
   ]
  },
  {
   "cell_type": "code",
   "execution_count": null,
   "id": "2fdace05",
   "metadata": {
    "pycharm": {
     "name": "#%%\n"
    }
   },
   "outputs": [],
   "source": [
    "# Adding a game_id to each dataset\n",
    "digit_count = len(str(len(basic_df)))\n",
    "\n",
    "for df in df_list:\n",
    "    df['game_id'] = df.index + 1\n",
    "    df['game_id'] = df['game_id'].astype(str).str.zfill(digit_count)\n",
    "    df.insert(0, 'game_id', df.pop('game_id'))"
   ]
  },
  {
   "cell_type": "code",
   "execution_count": null,
   "id": "3f279724",
   "metadata": {
    "pycharm": {
     "name": "#%%\n"
    }
   },
   "outputs": [],
   "source": [
    "bg_basic_df.head()"
   ]
  },
  {
   "cell_type": "code",
   "execution_count": null,
   "id": "e8b68acf",
   "metadata": {
    "pycharm": {
     "name": "#%%\n"
    }
   },
   "outputs": [],
   "source": [
    "sub_df.head()"
   ]
  },
  {
   "cell_type": "markdown",
   "id": "f66007a9",
   "metadata": {
    "pycharm": {
     "name": "#%% md\n"
    }
   },
   "source": [
    "## 2023 dataset"
   ]
  },
  {
   "cell_type": "code",
   "execution_count": null,
   "id": "ee5781e2",
   "metadata": {
    "pycharm": {
     "name": "#%%\n"
    }
   },
   "outputs": [],
   "source": [
    "path = 'data/2023'\n",
    "df = pd.read_csv(f'{path}/basic_data_2023.csv')\n",
    "cat_df = pd.read_csv(f'{path}/categories_2023.csv')\n",
    "mech_df = pd.read_csv(f'{path}/mechanics_2023.csv')"
   ]
  },
  {
   "cell_type": "code",
   "execution_count": null,
   "id": "9e6b835b",
   "metadata": {
    "pycharm": {
     "name": "#%%\n"
    }
   },
   "outputs": [],
   "source": [
    "mech_df.columns"
   ]
  },
  {
   "cell_type": "code",
   "execution_count": null,
   "id": "53293a46",
   "metadata": {
    "pycharm": {
     "name": "#%%\n"
    }
   },
   "outputs": [],
   "source": [
    "filter_df = df[df['year'] >= 2000]\n",
    "geek_rating = filter_df['avg_rating']\n",
    "z_score = (geek_rating - geek_rating.mean())/geek_rating.std()\n",
    "\n",
    "# scatter = sns.scatterplot(data=filter_df, x='year', y='geek_rating')\n",
    "# plt.title('Correlation between year published and rank')\n",
    "\n",
    "plt.hist(z_score)"
   ]
  },
  {
   "cell_type": "code",
   "execution_count": null,
   "id": "03ac96b7",
   "metadata": {
    "pycharm": {
     "name": "#%%\n"
    }
   },
   "outputs": [],
   "source": [
    "df.yea"
   ]
  },
  {
   "cell_type": "code",
   "execution_count": null,
   "id": "16c0d964",
   "metadata": {
    "pycharm": {
     "name": "#%%\n"
    }
   },
   "outputs": [],
   "source": [
    "neg_years = df[df['year'].between(0, 1500)]\n",
    "neg_years"
   ]
  },
  {
   "cell_type": "code",
   "execution_count": null,
   "id": "fa2af4ec",
   "metadata": {
    "pycharm": {
     "name": "#%%\n"
    }
   },
   "outputs": [],
   "source": [
    "len(mech_df.columns)"
   ]
  },
  {
   "cell_type": "markdown",
   "id": "0f1cea36",
   "metadata": {
    "pycharm": {
     "name": "#%%\n"
    }
   },
   "source": [
    "## Random Forest Classifier"
   ]
  },
  {
   "cell_type": "code",
   "execution_count": null,
   "id": "1d6e4ac5",
   "metadata": {
    "pycharm": {
     "name": "#%%\n"
    }
   },
   "outputs": [],
   "source": [
    "from sklearn.ensemble import RandomForestClassifier\n",
    "from sklearn.model_selection import train_test_split"
   ]
  },
  {
   "cell_type": "code",
   "execution_count": null,
   "id": "08a1234b",
   "metadata": {
    "pycharm": {
     "name": "#%%\n"
    }
   },
   "outputs": [],
   "source": [
    "X = cat_df.drop(['Unnamed: 0','game_id'], axis=1)\n",
    "y = df['rank']\n",
    "\n",
    "X_train, X_test, y_train, y_test = train_test_split(X, y, test_size=.2, random_state=42)"
   ]
  },
  {
   "cell_type": "code",
   "execution_count": null,
   "id": "bf19a0ab",
   "metadata": {
    "pycharm": {
     "name": "#%%\n"
    }
   },
   "outputs": [],
   "source": [
    "rfc = RandomForestClassifier(n_estimators=100, random_state=42)\n",
    "\n",
    "rfc.fit(X_train, y_train)"
   ]
  },
  {
   "cell_type": "code",
   "execution_count": null,
   "id": "1098d2bb",
   "metadata": {
    "pycharm": {
     "name": "#%%\n"
    }
   },
   "outputs": [],
   "source": [
    "y_pred = rfc.predict(X_test)"
   ]
  },
  {
   "cell_type": "code",
   "execution_count": null,
   "id": "94e62c2e",
   "metadata": {
    "pycharm": {
     "name": "#%%\n"
    }
   },
   "outputs": [],
   "source": []
  },
  {
   "cell_type": "code",
   "execution_count": null,
   "id": "dbb3f8de",
   "metadata": {
    "pycharm": {
     "name": "#%%\n"
    }
   },
   "outputs": [],
   "source": [
    "feature_importances = rfc.feature_importances_\n",
    "for i, feature_importance in enumerate(feature_importances):\n",
    "    print(f'Importance of feature {X.columns[i]}: {feature_importance}')"
   ]
  },
  {
   "cell_type": "code",
   "execution_count": null,
   "id": "6b71deb8",
   "metadata": {
    "pycharm": {
     "name": "#%%\n"
    }
   },
   "outputs": [],
   "source": [
    "from scipy import stats"
   ]
  },
  {
   "cell_type": "code",
   "execution_count": null,
   "id": "1d236346",
   "metadata": {
    "pycharm": {
     "name": "#%%\n"
    }
   },
   "outputs": [],
   "source": [
    "result = stats.anderson(df['geek_rating'])\n",
    "print('stat=%.3f' % (result.statistic))"
   ]
  },
  {
   "cell_type": "code",
   "execution_count": null,
   "id": "86c1be11",
   "metadata": {
    "pycharm": {
     "name": "#%%\n"
    }
   },
   "outputs": [],
   "source": [
    "df.yea"
   ]
  },
  {
   "cell_type": "code",
   "execution_count": null,
   "id": "da105330",
   "metadata": {
    "pycharm": {
     "name": "#%%\n"
    }
   },
   "outputs": [],
   "source": [
    "neg_years = df[df['year'].between(0, 1500)]\n",
    "neg_years"
   ]
  },
  {
   "cell_type": "code",
   "execution_count": null,
   "id": "85a323b6",
   "metadata": {
    "pycharm": {
     "name": "#%%\n"
    }
   },
   "outputs": [],
   "source": [
    "len(mech_df.columns)"
   ]
  },
  {
   "cell_type": "code",
   "execution_count": null,
   "id": "a5d403a7",
   "metadata": {
    "pycharm": {
     "name": "#%%\n"
    }
   },
   "outputs": [],
   "source": [
    "## Random Forest Classifier"
   ]
  },
  {
   "cell_type": "code",
   "execution_count": null,
   "id": "69156d11",
   "metadata": {
    "pycharm": {
     "name": "#%%\n"
    }
   },
   "outputs": [],
   "source": [
    "from sklearn.ensemble import RandomForestClassifier\n",
    "from sklearn.model_selection import train_test_split"
   ]
  },
  {
   "cell_type": "code",
   "execution_count": null,
   "id": "136d259b",
   "metadata": {
    "pycharm": {
     "name": "#%%\n"
    }
   },
   "outputs": [],
   "source": [
    "X = cat_df.drop(['Unnamed: 0','game_id'], axis=1)\n",
    "y = df['rank']\n",
    "\n",
    "X_train, X_test, y_train, y_test = train_test_split(X, y, test_size=.2, random_state=42)"
   ]
  },
  {
   "cell_type": "code",
   "execution_count": null,
   "id": "69a3d237",
   "metadata": {
    "pycharm": {
     "name": "#%%\n"
    }
   },
   "outputs": [],
   "source": [
    "rfc = RandomForestClassifier(n_estimators=100, random_state=42)\n",
    "\n",
    "rfc.fit(X_train, y_train)"
   ]
  },
  {
   "cell_type": "code",
   "execution_count": null,
   "id": "72fb645b",
   "metadata": {
    "pycharm": {
     "name": "#%%\n"
    }
   },
   "outputs": [],
   "source": [
    "y_pred = rfc.predict(X_test)"
   ]
  },
  {
   "cell_type": "code",
   "execution_count": null,
   "id": "977371a0",
   "metadata": {
    "pycharm": {
     "name": "#%%\n"
    }
   },
   "outputs": [],
   "source": []
  },
  {
   "cell_type": "code",
   "execution_count": null,
   "id": "44fd44c9",
   "metadata": {
    "pycharm": {
     "name": "#%%\n"
    }
   },
   "outputs": [],
   "source": [
    "feature_importances = rfc.feature_importances_\n",
    "for i, feature_importance in enumerate(feature_importances):\n",
    "    print(f'Importance of feature {X.columns[i]}: {feature_importance}')"
   ]
  },
  {
   "cell_type": "code",
   "execution_count": null,
   "id": "8ea37d82",
   "metadata": {
    "pycharm": {
     "name": "#%%\n"
    }
   },
   "outputs": [],
   "source": [
    "from scipy import stats"
   ]
  },
  {
   "cell_type": "code",
   "execution_count": null,
   "id": "c76e7ea5",
   "metadata": {
    "pycharm": {
     "name": "#%%\n"
    }
   },
   "outputs": [],
   "source": [
    "result = stats.anderson(df['geek_rating'])\n",
    "print('stat=%.3f' % (result.statistic))"
   ]
  },
  {
   "cell_type": "markdown",
   "id": "dbf3be87",
   "metadata": {
    "pycharm": {
     "name": "#%%\n"
    }
   },
   "source": [
    "## new csv"
   ]
  },
  {
   "cell_type": "code",
   "execution_count": null,
   "id": "91f78a40",
   "metadata": {},
   "outputs": [],
   "source": [
    "df_17 =  pd.read_csv(f'data/2017/basic_data_2017.csv', index_col='Unnamed: 0')\n",
    "df_23 =  pd.read_csv(f'data/2023/basic_data_2023.csv', index_col='Unnamed: 0') \n",
    "\n",
    "\n",
    "rank_id_17 = df_17[['rank', 'geek_rating', 'game_id']]\n",
    "rank_id_23 = df_23[['rank','geek_rating', 'game_id']]\n",
    "\n",
    "rank_id_17.to_csv('data/2017/rank_id.csv', index = False)\n",
    "rank_id_23.to_csv('data/2023/rank_id.csv', index = False)"
   ]
  },
  {
   "cell_type": "markdown",
   "id": "31f9b289",
   "metadata": {},
   "source": [
    "### Trying to get subdomains"
   ]
  },
  {
   "cell_type": "code",
   "execution_count": 24,
   "id": "84b84bb0",
   "metadata": {},
   "outputs": [
    {
     "name": "stdout",
     "output_type": "stream",
     "text": [
      "<?xml version=\"1.0\" encoding=\"utf-8\"?>\n",
      "<html>\n",
      " <body>\n",
      "  <items termsofuse=\"https://boardgamegeek.com/xmlapi/termsofuse\">\n",
      "   <item id=\"122996\" type=\"boardgameexpansion\">\n",
      "    <thumbnail>\n",
      "     https://cf.geekdo-images.com/p-cMo5L_XTj46Wrw19tKbg__thumb/img/hI76IppEsLjtIbLGX7jo9ZNM0Gc=/fit-in/200x150/filters:strip_icc()/pic1279244.jpg\n",
      "    </thumbnail>\n",
      "    <image>\n",
      "     https://cf.geekdo-images.com/p-cMo5L_XTj46Wrw19tKbg__original/img/C8kXXmJGPUSLPqdpgVoNR8guF-o=/0x0/filters:format(jpeg)/pic1279244.jpg\n",
      "    </image>\n",
      "    <name sortindex=\"1\" type=\"primary\" value=\"Lords of Waterdeep: Inevitable Betrayal Promo Card\">\n",
      "    </name>\n",
      "    <description>\n",
      "     Promotional Intrigue card for the Lords of Waterdeep Board Game offered at the Dungeons and Dragons Experience Con 2012 for playing the demo of Lords of Waterdeep. Also included in Lords of Waterdeep Scoundrels of Skullport expansion with different artwork.&amp;#10;&amp;#10;May be added to the Intrigue Deck before playing.&amp;#10;&amp;#10;Card Text:&amp;#10;Inevitable Betrayal&amp;#10;Play at Waterdeep Harbor.&amp;#10;Attack.&amp;#10;&amp;#10;Choose 1 opponent. Remove [2 gold and an Adventurer of your choice] from his or her Tavern and place them in your Tavern.&amp;#10;&amp;#10;Give this card to the chosen opponent after playing it.&amp;#10;&amp;#10;&amp;quot;Cue evil laugh.&amp;quot;&amp;#10;&amp;#10;\n",
      "    </description>\n",
      "    <yearpublished value=\"2012\">\n",
      "    </yearpublished>\n",
      "    <minplayers value=\"2\">\n",
      "    </minplayers>\n",
      "    <maxplayers value=\"5\">\n",
      "    </maxplayers>\n",
      "    <poll name=\"suggested_numplayers\" title=\"User Suggested Number of Players\" totalvotes=\"6\">\n",
      "     <results numplayers=\"1\">\n",
      "      <result numvotes=\"0\" value=\"Best\">\n",
      "      </result>\n",
      "      <result numvotes=\"0\" value=\"Recommended\">\n",
      "      </result>\n",
      "      <result numvotes=\"4\" value=\"Not Recommended\">\n",
      "      </result>\n",
      "     </results>\n",
      "     <results numplayers=\"2\">\n",
      "      <result numvotes=\"1\" value=\"Best\">\n",
      "      </result>\n",
      "      <result numvotes=\"4\" value=\"Recommended\">\n",
      "      </result>\n",
      "      <result numvotes=\"1\" value=\"Not Recommended\">\n",
      "      </result>\n",
      "     </results>\n",
      "     <results numplayers=\"3\">\n",
      "      <result numvotes=\"2\" value=\"Best\">\n",
      "      </result>\n",
      "      <result numvotes=\"3\" value=\"Recommended\">\n",
      "      </result>\n",
      "      <result numvotes=\"0\" value=\"Not Recommended\">\n",
      "      </result>\n",
      "     </results>\n",
      "     <results numplayers=\"4\">\n",
      "      <result numvotes=\"4\" value=\"Best\">\n",
      "      </result>\n",
      "      <result numvotes=\"1\" value=\"Recommended\">\n",
      "      </result>\n",
      "      <result numvotes=\"0\" value=\"Not Recommended\">\n",
      "      </result>\n",
      "     </results>\n",
      "     <results numplayers=\"5\">\n",
      "      <result numvotes=\"2\" value=\"Best\">\n",
      "      </result>\n",
      "      <result numvotes=\"3\" value=\"Recommended\">\n",
      "      </result>\n",
      "      <result numvotes=\"0\" value=\"Not Recommended\">\n",
      "      </result>\n",
      "     </results>\n",
      "     <results numplayers=\"5+\">\n",
      "      <result numvotes=\"0\" value=\"Best\">\n",
      "      </result>\n",
      "      <result numvotes=\"0\" value=\"Recommended\">\n",
      "      </result>\n",
      "      <result numvotes=\"4\" value=\"Not Recommended\">\n",
      "      </result>\n",
      "     </results>\n",
      "    </poll>\n",
      "    <playingtime value=\"60\">\n",
      "    </playingtime>\n",
      "    <minplaytime value=\"60\">\n",
      "    </minplaytime>\n",
      "    <maxplaytime value=\"60\">\n",
      "    </maxplaytime>\n",
      "    <minage value=\"12\">\n",
      "    </minage>\n",
      "    <poll name=\"suggested_playerage\" title=\"User Suggested Player Age\" totalvotes=\"3\">\n",
      "     <results>\n",
      "      <result numvotes=\"0\" value=\"2\">\n",
      "      </result>\n",
      "      <result numvotes=\"0\" value=\"3\">\n",
      "      </result>\n",
      "      <result numvotes=\"0\" value=\"4\">\n",
      "      </result>\n",
      "      <result numvotes=\"0\" value=\"5\">\n",
      "      </result>\n",
      "      <result numvotes=\"0\" value=\"6\">\n",
      "      </result>\n",
      "      <result numvotes=\"1\" value=\"8\">\n",
      "      </result>\n",
      "      <result numvotes=\"1\" value=\"10\">\n",
      "      </result>\n",
      "      <result numvotes=\"1\" value=\"12\">\n",
      "      </result>\n",
      "      <result numvotes=\"0\" value=\"14\">\n",
      "      </result>\n",
      "      <result numvotes=\"0\" value=\"16\">\n",
      "      </result>\n",
      "      <result numvotes=\"0\" value=\"18\">\n",
      "      </result>\n",
      "      <result numvotes=\"0\" value=\"21 and up\">\n",
      "      </result>\n",
      "     </results>\n",
      "    </poll>\n",
      "    <poll name=\"language_dependence\" title=\"Language Dependence\" totalvotes=\"2\">\n",
      "     <results>\n",
      "      <result level=\"1\" numvotes=\"0\" value=\"No necessary in-game text\">\n",
      "      </result>\n",
      "      <result level=\"2\" numvotes=\"0\" value=\"Some necessary text - easily memorized or small crib sheet\">\n",
      "      </result>\n",
      "      <result level=\"3\" numvotes=\"2\" value=\"Moderate in-game text - needs crib sheet or paste ups\">\n",
      "      </result>\n",
      "      <result level=\"4\" numvotes=\"0\" value=\"Extensive use of text - massive conversion needed to be playable\">\n",
      "      </result>\n",
      "      <result level=\"5\" numvotes=\"0\" value=\"Unplayable in another language\">\n",
      "      </result>\n",
      "     </results>\n",
      "    </poll>\n",
      "    <link id=\"1029\" type=\"boardgamecategory\" value=\"City Building\"/>\n",
      "    <link id=\"1042\" type=\"boardgamecategory\" value=\"Expansion for Base-game\"/>\n",
      "    <link id=\"1010\" type=\"boardgamecategory\" value=\"Fantasy\"/>\n",
      "    <link id=\"2041\" type=\"boardgamemechanic\" value=\"Open Drafting\"/>\n",
      "    <link id=\"2082\" type=\"boardgamemechanic\" value=\"Worker Placement\"/>\n",
      "    <link id=\"57504\" type=\"boardgamefamily\" value=\"Game: Lords of Waterdeep\"/>\n",
      "    <link id=\"7307\" type=\"boardgamefamily\" value=\"Setting: Dungeons &amp; Dragons\"/>\n",
      "    <link id=\"7757\" type=\"boardgamefamily\" value=\"Versions &amp; Editions: Board Game Versions of Role-Playing Games\"/>\n",
      "    <link id=\"110327\" inbound=\"true\" type=\"boardgameexpansion\" value=\"Lords of Waterdeep\"/>\n",
      "    <link id=\"268395\" type=\"boardgameaccessory\" value=\"Lords of Waterdeep: Quick-Start Insert\"/>\n",
      "    <link id=\"15913\" type=\"boardgamedesigner\" value=\"Peter Lee\"/>\n",
      "    <link id=\"13261\" type=\"boardgamedesigner\" value=\"Rodney Thompson\"/>\n",
      "    <link id=\"13\" type=\"boardgamepublisher\" value=\"Wizards of the Coast\"/>\n",
      "   </item>\n",
      "  </items>\n",
      " </body>\n",
      "</html>\n",
      "\n"
     ]
    }
   ],
   "source": [
    "import requests\n",
    "from bs4 import BeautifulSoup\n",
    "\n",
    "# The BoardGameGeek API URL for a specific board game\n",
    "url = \"https://www.boardgamegeek.com/xmlapi2/thing?id=122996\"\n",
    "\n",
    "response = requests.get(url)\n",
    "\n",
    "# Parse the XML with BeautifulSoup136558\n",
    "soup = BeautifulSoup(response.content, 'lxml')\n",
    "\n",
    "print(soup.prettify())"
   ]
  },
  {
   "cell_type": "code",
   "execution_count": 10,
   "id": "825ceeea",
   "metadata": {},
   "outputs": [
    {
     "name": "stdout",
     "output_type": "stream",
     "text": [
      "<!DOCTYPE html>\n",
      "<html lang=\"en-US\" ng-app=\"GeekApp\" ng-cloak=\"\">\n",
      " <head>\n",
      "  <meta charset=\"utf-8\"/>\n",
      "  <meta content=\"width=device-width, initial-scale=1.0\" id=\"vp\" name=\"viewport\"/>\n",
      "  <meta content=\"yes\" name=\"apple-mobile-web-app-capable\"/>\n",
      "  <meta content=\"IE=edge,chrome=1\" http-equiv=\"X-UA-Compatible\"/>\n",
      "  <title>\n",
      "   1st &amp; Goal | Board Game | BoardGameGeek\n",
      "  </title>\n",
      "  <link href=\"https://boardgamegeek.com/boardgame/95105/1st-goal\" rel=\"canonical\"/>\n",
      "  <link href=\"https://cf.geekdo-static.com/icons/touch-icon180.png\" rel=\"apple-touch-icon\"/>\n",
      "  <link href=\"https://cf.geekdo-static.com/icons/favicon2.ico\" rel=\"shortcut icon\" type=\"image/ico\"/>\n",
      "  <link href=\"https://cf.geekdo-static.com/icons/favicon2.ico\" rel=\"icon\" type=\"image/ico\"/>\n",
      "  <link href=\"/game-opensearch.xml\" rel=\"search\" title=\"BGG Game Search\" type=\"application/opensearchdescription+xml\"/>\n",
      "  <meta content=\"BGG\" name=\"apple-mobile-web-app-title\"/>\n",
      "  <meta content=\"#2e2b47\" name=\"theme-color\"/>\n",
      "  <link href=\"https://api.geekdo.com\" rel=\"preconnect\"/>\n",
      "  <link as=\"image\" href=\"https://cf.geekdo-images.com/OODwwxY-e_0AjHXWeICoLA__itemheader/img/IbUR8Eqj4Lthhth_rJzoEdcfbR4=/800x450/filters:quality(30):strip_icc()/pic1089481.jpg\" media=\"(min-width: 768px)\" rel=\"preload\"/>\n",
      "  <link as=\"image\" href=\"https://cf.geekdo-images.com/_Wng4co9wlh339DgaF8pCA__itemrep/img/w34PUbNwcGjQmQgnXMtH5jt8Zdk=/fit-in/246x300/filters:strip_icc()/pic1172132.jpg\" rel=\"preload\"/>\n",
      "  <meta content=\"1st &amp; Goal\" name=\"title\"/>\n",
      "  <meta content=\"https://cf.geekdo-images.com/_Wng4co9wlh339DgaF8pCA__opengraph/img/vaa8Njn8ouFt4qFiRxP1Mnr2qxY=/0x325:1000x850/fit-in/1200x630/filters:strip_icc()/pic1172132.jpg\" property=\"og:image\"/>\n",
      "  <meta content=\"1st &amp; Goal\" property=\"og:title\"/>\n",
      "  <meta content=\"BoardGameGeek\" property=\"og:site_name\"/>\n",
      "  <meta content=\"https://boardgamegeek.com/boardgame/95105/1st-goal\" property=\"og:url\"/>\n",
      "  <meta content=\"website\" property=\"og:type\"/>\n",
      "  <meta content=\"Out think your adversary, choose the right plays, roll your way to touchdowns!\" property=\"og:description\"/>\n",
      "  <meta content=\"summary_large_image\" name=\"twitter:card\"/>\n",
      "  <meta content=\"1st &amp; Goal\" name=\"twitter:title\"/>\n",
      "  <meta content=\"https://cf.geekdo-images.com/_Wng4co9wlh339DgaF8pCA__opengraph/img/vaa8Njn8ouFt4qFiRxP1Mnr2qxY=/0x325:1000x850/fit-in/1200x630/filters:strip_icc()/pic1172132.jpg\" name=\"twitter:image:src\"/>\n",
      "  <meta content=\"Out think your adversary, choose the right plays, roll your way to touchdowns!\" name=\"twitter:description\"/>\n",
      "  <meta content=\"Out think your adversary, choose the right plays, roll your way to touchdowns!\" name=\"description\"/>\n",
      "  <meta content=\"board game, boardgames, boardgame, board, games, game, hobby, boardgamegeek, geek, geekdo\" name=\"keywords\"/>\n",
      "  <script>\n",
      "   window.AdSlots = window.AdSlots || {\n",
      "\tcmd: [],\n",
      "\tdisableScripts: ['gpt'],\n",
      "\trenderOnFirstLoad: false,\n",
      "\tdivCheck: false\n",
      "};\n",
      "  </script>\n",
      "  <link href=\"https://cf.geekdo-static.com/static/geekui_master2_64bebefaa7cb2.css\" rel=\"stylesheet\" type=\"text/css\"/>\n",
      "  <base href=\"/\"/>\n",
      "  <script crossorigin=\"anonymous\" src=\"https://kit.fontawesome.com/42d3f5a072.js\">\n",
      "  </script>\n",
      "  <script>\n",
      "   var GEEK = GEEK || {};\n",
      "\tGEEK.adBlock = [];\n",
      "\tGEEK.adConfig = {\"blockleaderboard\":false,\"blockskyscraper\":false,\"noadsense\":false};\n",
      "\tGEEK.adSlots = {\"dfp-leaderboard\":{\"name\":\"boardgame_leaderboard_728x90\"},\"dfp-skyscraper\":{\"name\":\"boardgame_skyscraper_160x600\"},\"dfp-medrect\":{\"name\":\"boardgame_rectangle_300x250\"},\"dfp-repeater\":{\"name\":\"boardgame_home_repeater\"},\"dfp-medrect-reserved-home\":{\"name\":\"boardgame_reserved_home_300x250\"},\"dfp-leaderboard-lg\":{\"name\":\"boardgame_home_hero\"},\"dfp-home-sidekick\":{\"name\":\"boardgame_home_repeater\"},\"dfp-inline-post\":{\"name\":\"boardgame_inline_post\"}};\n",
      "\tGEEK.legacyAds = [];\n",
      "\tGEEK.googleTargets = {\"gameid\":[\"95105\"],\"propertyid\":[\"1002\",\"1017\",\"2072\",\"2040\",\"2020\",\"1038\"],\"familyid\":[\"5499\",\"5640\",\"5496\"],\"personid\":[\"12641\",\"2118\",\"52029\",\"28191\"],\"companyid\":[\"105\"]};\n",
      "\tGEEK.userid = 0;\n",
      "\tGEEK.domainname = 'boardgamegeek.com';\n",
      "\tGEEK.domain = 'boardgame';\n",
      "\tGEEK.geekitemPreload = {\"item\":{\"itemdata\":[{\"datatype\":\"geekitem_fielddata\",\"fieldname\":\"name\",\"title\":\"Primary Name\",\"primaryname\":true,\"required\":true,\"unclickable\":true,\"fullcredits\":true,\"subtype\":\"boardgame\",\"keyname\":\"name\"},{\"datatype\":\"geekitem_fielddata\",\"fieldname\":\"alternatename\",\"title\":\"Alternate Names\",\"alternate\":true,\"unclickable\":true,\"fullcredits\":true,\"subtype\":\"boardgame\",\"keyname\":\"alternatename\"},{\"datatype\":\"geekitem_fielddata\",\"fieldname\":\"yearpublished\",\"title\":\"Year Released\",\"fullcredits\":true,\"subtype\":\"boardgame\",\"keyname\":\"yearpublished\"},{\"datatype\":\"geekitem_fielddata\",\"fieldname\":\"minplayers\",\"title\":\"Minimum Players\",\"subtype\":\"boardgame\",\"keyname\":\"minplayers\"},{\"datatype\":\"geekitem_fielddata\",\"fieldname\":\"maxplayers\",\"title\":\"Maximum Players\",\"subtype\":\"boardgame\",\"keyname\":\"maxplayers\"},{\"datatype\":\"geekitem_fielddata\",\"fieldname\":\"minplaytime\",\"title\":\"Minimum Playing Time\",\"createposttext\":\" minutes\",\"posttext\":\" minutes\",\"subtype\":\"boardgame\",\"keyname\":\"minplaytime\"},{\"datatype\":\"geekitem_fielddata\",\"fieldname\":\"maxplaytime\",\"title\":\"Maximum Playing Time\",\"createposttext\":\" minutes\",\"posttext\":\" minutes\",\"subtype\":\"boardgame\",\"keyname\":\"maxplaytime\"},{\"datatype\":\"geekitem_fielddata\",\"fieldname\":\"minage\",\"title\":\"Mfg Suggested Ages\",\"createtitle\":\"Minimum Age\",\"posttext\":\" and up\",\"subtype\":\"boardgame\",\"keyname\":\"minage\"},{\"datatype\":\"geekitem_fielddata\",\"fieldname\":\"override_rankable\",\"title\":\"Override Rankable\",\"table\":\"geekitem_items\",\"options\":[{\"value\":1,\"title\":\"yes\"},{\"value\":0,\"title\":\"no\"}],\"adminonly\":true,\"subtype\":\"boardgame\",\"keyname\":\"override_rankable\"},{\"datatype\":\"geekitem_fielddata\",\"fieldname\":\"targetco_url\",\"unclickable\":true,\"title\":\"Target Co Order Link\",\"subtype\":\"boardgame\",\"keyname\":\"targetco_url\"},{\"datatype\":\"geekitem_fielddata\",\"fieldname\":\"walmart_id\",\"unclickable\":true,\"title\":\"Walmart Item Id\",\"nullable\":true,\"subtype\":\"boardgame\",\"keyname\":\"walmart_id\"},{\"datatype\":\"geekitem_fielddata\",\"fieldname\":\"instructional_videoid\",\"unclickable\":true,\"title\":\"Promoted Instructional Video ID\",\"validatemethod\":\"ValidateVideoid\",\"nullable\":true,\"subtype\":\"boardgame\",\"keyname\":\"instructional_videoid\"},{\"datatype\":\"geekitem_fielddata\",\"fieldname\":\"summary_videoid\",\"unclickable\":true,\"title\":\"Promoted Summary Video ID\",\"validatemethod\":\"ValidateVideoid\",\"nullable\":true,\"subtype\":\"boardgame\",\"keyname\":\"summary_videoid\"},{\"datatype\":\"geekitem_fielddata\",\"fieldname\":\"playthrough_videoid\",\"unclickable\":true,\"title\":\"Promoted Playthrough Video ID\",\"validatemethod\":\"ValidateVideoid\",\"nullable\":true,\"subtype\":\"boardgame\",\"keyname\":\"playthrough_videoid\"},{\"datatype\":\"geekitem_fielddata\",\"fieldname\":\"focus_videoid\",\"unclickable\":true,\"title\":\"Promoted In Focus Video ID\",\"validatemethod\":\"ValidateVideoid\",\"nullable\":true,\"subtype\":\"boardgame\",\"keyname\":\"focus_videoid\"},{\"datatype\":\"geekitem_fielddata\",\"fieldname\":\"howtoplay_videoid\",\"unclickable\":true,\"title\":\"Promoted BGG How to Play Video ID\",\"validatemethod\":\"ValidateVideoid\",\"nullable\":true,\"subtype\":\"boardgame\",\"keyname\":\"howtoplay_videoid\"},{\"datatype\":\"geekitem_fielddata\",\"fieldname\":\"bggstore_product\",\"unclickable\":true,\"title\":\"Promoted BGG Store Product Name\",\"nullable\":true,\"subtype\":\"boardgame\",\"keyname\":\"bggstore_product\"},{\"datatype\":\"geekitem_fielddata\",\"fieldname\":\"short_description\",\"title\":\"Short Description\",\"table\":\"geekitem_items\",\"maxlength\":85,\"editfieldsize\":60,\"required\":true,\"subtype\":\"boardgame\",\"keyname\":\"short_description\"},{\"datatype\":\"geekitem_linkdata\",\"other_objecttype\":\"person\",\"other_subtype\":\"boardgamedesigner\",\"linktype\":\"boardgamedesigner\",\"self_prefix\":\"src\",\"title\":\"Designer\",\"titlepl\":\"Designers\",\"fullcredits\":true,\"keyname\":\"boardgamedesigner\"},{\"datatype\":\"geekitem_linkdata\",\"other_objecttype\":\"person\",\"other_subtype\":\"boardgamesolodesigner\",\"linktype\":\"boardgamesolodesigner\",\"self_prefix\":\"src\",\"title\":\"Solo Designer\",\"titlepl\":\"Solo Designers\",\"fullcredits\":true,\"keyname\":\"boardgamesolodesigner\"},{\"datatype\":\"geekitem_linkdata\",\"other_objecttype\":\"person\",\"other_subtype\":\"boardgameartist\",\"linktype\":\"boardgameartist\",\"self_prefix\":\"src\",\"title\":\"Artist\",\"titlepl\":\"Artists\",\"fullcredits\":true,\"keyname\":\"boardgameartist\"},{\"datatype\":\"geekitem_linkdata\",\"other_objecttype\":\"company\",\"other_subtype\":\"boardgamepublisher\",\"linktype\":\"boardgamepublisher\",\"self_prefix\":\"src\",\"title\":\"Publisher\",\"titlepl\":\"Publishers\",\"required\":true,\"fullcredits\":true,\"keyname\":\"boardgamepublisher\"},{\"datatype\":\"geekitem_linkdata\",\"other_objecttype\":\"person\",\"other_subtype\":\"boardgamedeveloper\",\"linktype\":\"boardgamedeveloper\",\"self_prefix\":\"src\",\"title\":\"Developer\",\"titlepl\":\"Developers\",\"fullcredits\":true,\"keyname\":\"boardgamedeveloper\"},{\"datatype\":\"geekitem_linkdata\",\"other_objecttype\":\"person\",\"other_subtype\":\"boardgamegraphicdesigner\",\"linktype\":\"boardgamegraphicdesigner\",\"self_prefix\":\"src\",\"title\":\"Graphic Designer\",\"titlepl\":\"Graphic Designers\",\"fullcredits\":true,\"keyname\":\"boardgamegraphicdesigner\"},{\"datatype\":\"geekitem_linkdata\",\"other_objecttype\":\"person\",\"other_subtype\":\"boardgamesculptor\",\"linktype\":\"boardgamesculptor\",\"self_prefix\":\"src\",\"title\":\"Sculptor\",\"titlepl\":\"Sculptors\",\"fullcredits\":true,\"keyname\":\"boardgamesculptor\"},{\"datatype\":\"geekitem_linkdata\",\"other_objecttype\":\"person\",\"other_subtype\":\"boardgameeditor\",\"linktype\":\"boardgameeditor\",\"self_prefix\":\"src\",\"title\":\"Editor\",\"titlepl\":\"Editors\",\"fullcredits\":true,\"keyname\":\"boardgameeditor\"},{\"datatype\":\"geekitem_linkdata\",\"other_objecttype\":\"person\",\"other_subtype\":\"boardgamewriter\",\"linktype\":\"boardgamewriter\",\"self_prefix\":\"src\",\"title\":\"Writer\",\"titlepl\":\"Writers\",\"fullcredits\":true,\"keyname\":\"boardgamewriter\"},{\"datatype\":\"geekitem_linkdata\",\"other_objecttype\":\"person\",\"other_subtype\":\"boardgameinsertdesigner\",\"linktype\":\"boardgameinsertdesigner\",\"self_prefix\":\"src\",\"title\":\"Insert Designer\",\"titlepl\":\"Insert Designers\",\"fullcredits\":true,\"keyname\":\"boardgameinsertdesigner\"},{\"datatype\":\"geekitem_linkdata\",\"other_objecttype\":\"family\",\"other_subtype\":\"boardgamehonor\",\"lookup_subtype\":\"boardgamehonor\",\"linktype\":\"boardgamehonor\",\"self_prefix\":\"src\",\"title\":\"Honors\",\"keyname\":\"boardgamehonor\"},{\"datatype\":\"geekitem_linkdata\",\"other_objecttype\":\"property\",\"other_subtype\":\"boardgamecategory\",\"lookup_subtype\":\"boardgamecategory\",\"linktype\":\"boardgamecategory\",\"self_prefix\":\"src\",\"title\":\"Category\",\"titlepl\":\"Categories\",\"showall_ctrl\":true,\"fullcredits\":true,\"overview_count\":5,\"keyname\":\"boardgamecategory\"},{\"datatype\":\"geekitem_linkdata\",\"other_objecttype\":\"property\",\"other_subtype\":\"boardgamemechanic\",\"lookup_subtype\":\"boardgamemechanic\",\"linktype\":\"boardgamemechanic\",\"self_prefix\":\"src\",\"title\":\"Mechanism\",\"titlepl\":\"Mechanisms\",\"showall_ctrl\":true,\"fullcredits\":true,\"overview_count\":5,\"keyname\":\"boardgamemechanic\"},{\"datatype\":\"geekitem_linkdata\",\"lookup_subtype\":\"boardgame\",\"other_objecttype\":\"thing\",\"other_subtype\":\"boardgameexpansion\",\"linktype\":\"boardgameexpansion\",\"self_prefix\":\"src\",\"title\":\"Expansion\",\"keyname\":\"boardgameexpansion\"},{\"datatype\":\"geekitem_linkdata\",\"other_objecttype\":\"version\",\"other_subtype\":\"boardgameversion\",\"linktype\":\"boardgameversion\",\"other_is_dependent\":true,\"required\":true,\"loadlinks\":true,\"self_prefix\":\"src\",\"title\":\"Version\",\"createtitle\":\"Versions\",\"uneditable\":true,\"keyname\":\"boardgameversion\"},{\"datatype\":\"geekitem_linkdata\",\"other_objecttype\":\"thing\",\"other_subtype\":\"boardgame\",\"lookup_subtype\":\"boardgame\",\"linktype\":\"boardgameexpansion\",\"self_prefix\":\"dst\",\"title\":\"Expands\",\"overview_count\":100,\"keyname\":\"expandsboardgame\"},{\"datatype\":\"geekitem_linkdata\",\"other_objecttype\":\"thing\",\"other_subtype\":\"boardgame\",\"lookup_subtype\":\"boardgame\",\"linktype\":\"boardgameintegration\",\"correctioncomment\":\"Only for stand-alone games that integrate with other stand-alone games. <b>NOT<\\/b> for expansions.\",\"self_prefix\":\"src\",\"title\":\"Integrates With\",\"overview_count\":4,\"keyname\":\"boardgameintegration\"},{\"datatype\":\"geekitem_linkdata\",\"other_objecttype\":\"thing\",\"other_subtype\":\"boardgame\",\"lookup_subtype\":\"boardgame\",\"linktype\":\"boardgamecompilation\",\"self_prefix\":\"dst\",\"correctioncomment\":\"Items contained in this item (if this is a compilation, for example)\",\"title\":\"Contains\",\"overview_count\":4,\"keyname\":\"contains\"},{\"datatype\":\"geekitem_linkdata\",\"lookup_subtype\":\"boardgame\",\"other_objecttype\":\"thing\",\"other_subtype\":\"boardgame\",\"linktype\":\"boardgamecompilation\",\"self_prefix\":\"src\",\"title\":\"Contained in\",\"keyname\":\"containedin\"},{\"datatype\":\"geekitem_linkdata\",\"lookup_subtype\":\"boardgame\",\"other_objecttype\":\"thing\",\"other_subtype\":\"boardgame\",\"linktype\":\"boardgameimplementation\",\"self_prefix\":\"src\",\"correctioncomment\":\"Add the \\\"child\\\" item(s) that reimplement this game\",\"title\":\"Reimplemented By\",\"overview_count\":4,\"keyname\":\"reimplementation\"},{\"datatype\":\"geekitem_linkdata\",\"other_objecttype\":\"thing\",\"other_subtype\":\"boardgame\",\"lookup_subtype\":\"boardgame\",\"linktype\":\"boardgameimplementation\",\"self_prefix\":\"dst\",\"correctioncomment\":\"Add the \\\"parent\\\" item(s) for this game, if it reimplements a previous game\",\"title\":\"Reimplements\",\"overview_count\":4,\"keyname\":\"reimplements\"},{\"datatype\":\"geekitem_linkdata\",\"other_objecttype\":\"family\",\"other_subtype\":\"boardgamefamily\",\"lookup_subtype\":\"boardgamefamily\",\"linktype\":\"boardgamefamily\",\"self_prefix\":\"src\",\"fullcredits\":true,\"title\":\"Family\",\"overview_count\":10,\"keyname\":\"boardgamefamily\"},{\"datatype\":\"geekitem_linkdata\",\"other_objecttype\":\"thing\",\"other_subtype\":\"videogamebg\",\"lookup_subtype\":\"videogame\",\"linktype\":\"videogamebg\",\"self_prefix\":\"src\",\"adminonly\":true,\"title\":\"Video Game Adaptation\",\"titlepl\":\"Video Game Adaptations\",\"keyname\":\"videogamebg\"},{\"datatype\":\"geekitem_linkdata\",\"other_objecttype\":\"family\",\"other_subtype\":\"boardgamesubdomain\",\"lookup_subtype\":\"boardgamesubdomain\",\"linktype\":\"boardgamesubdomain\",\"polltype\":\"boardgamesubdomain\",\"display_inline\":true,\"self_prefix\":\"src\",\"title\":\"Type\",\"showall_ctrl\":true,\"uneditable\":true,\"createposttext\":\"Enter the subdomain for this item.\",\"keyname\":\"boardgamesubdomain\"},{\"datatype\":\"geekitem_linkdata\",\"other_objecttype\":\"thing\",\"other_subtype\":\"boardgameaccessory\",\"lookup_subtype\":\"boardgameaccessory\",\"linktype\":\"boardgameaccessory\",\"self_prefix\":\"src\",\"title\":\"Accessory\",\"titlepl\":\"Accessories\",\"addnew\":true,\"keyname\":\"boardgameaccessory\"},{\"datatype\":\"geekitem_linkdata\",\"linktype\":\"commerceweblink\",\"other_objecttype\":\"weblink\",\"other_subtype\":\"commerceweblink\",\"self_prefix\":\"src\",\"title\":\"Commerce Weblinks\",\"adminaccess\":[\"admgr\"],\"keyname\":\"commerceweblink\"},{\"datatype\":\"geekitem_linkdata\",\"other_objecttype\":\"family\",\"other_subtype\":\"componentlist\",\"linktype\":\"componentlist\",\"self_prefix\":\"src\",\"title\":\"Card List\",\"uneditable\":true,\"keyname\":\"componentlist\"},{\"datatype\":\"geekitem_polldata\",\"title\":\"User Suggested # of Players\",\"polltype\":\"numplayers\",\"keyname\":\"userplayers\"},{\"datatype\":\"geekitem_polldata\",\"title\":\"User Suggested Ages\",\"polltype\":\"playerage\",\"keyname\":\"playerage\"},{\"datatype\":\"geekitem_polldata\",\"title\":\"Language Dependence\",\"polltype\":\"languagedependence\",\"keyname\":\"languagedependence\"},{\"datatype\":\"geekitem_polldata\",\"title\":\"Subdomain\",\"polltype\":\"boardgamesubdomain\",\"keyname\":\"subdomain\"},{\"datatype\":\"geekitem_polldata\",\"title\":\"Weight\",\"polltype\":\"boardgameweight\",\"keyname\":\"boardgameweight\"}],\"relatedlinktypes\":[\"boardgameaccessory\",\"contains\",\"containedin\",\"reimplementation\",\"reimplements\",\"videogamebg\",\"boardgameintegration\"],\"classification_types\":[\"boardgamesubdomain\",\"boardgamecategory\",\"boardgamemechanic\",\"boardgamefamily\",\"boardgameintegration\",\"reimplementation\",\"reimplements\",\"contains\",\"expandsboardgame\"],\"linkedforum_types\":[{\"title\":\"Board Game Forums\",\"linkedforum_index\":\"boardgames\",\"linkdata_index\":\"expandsboardgame\",\"required_subtype\":null},{\"title\":\"Expansion Forums\",\"linkedforum_index\":\"boardgameexpansions\",\"linkdata_index\":\"boardgameexpansion\",\"required_subtype\":null},{\"title\":\"Compilation Item Forums\",\"linkedforum_index\":\"compilationitems\",\"linkdata_index\":\"contains\",\"required_subtype\":\"boardgamecompilation\"},{\"title\":\"Parent Item Forums\",\"linkedforum_index\":\"reimplements\",\"linkdata_index\":\"reimplements\",\"required_subtype\":\"boardgameimplementation\"},{\"title\":\"Reimplementation Forums\",\"linkedforum_index\":\"reimplementedby\",\"linkdata_index\":\"reimplementation\",\"required_subtype\":null},{\"title\":\"Integrates With\",\"linkedforum_index\":\"boardgameintegration\",\"linkdata_index\":\"boardgameintegration\",\"required_subtype\":\"boardgameintegration\"},{\"title\":\"Video Game Forums\",\"linkedforum_index\":\"videogamebgs\",\"linkdata_index\":\"videogamebg\",\"required_subtype\":null}],\"subtypename\":\"Board Game\",\"honor_subtype\":\"boardgamehonor\",\"honor_linktype\":\"boardgamehonor\",\"credit_subtypes\":[{\"datatype\":\"geekitem_linkdata\",\"other_objecttype\":\"person\",\"other_subtype\":\"boardgamedesigner\",\"linktype\":\"boardgamedesigner\",\"self_prefix\":\"src\",\"title\":\"Designer\",\"titlepl\":\"Designers\",\"fullcredits\":true,\"keyname\":\"boardgamedesigner\"},{\"datatype\":\"geekitem_linkdata\",\"other_objecttype\":\"person\",\"other_subtype\":\"boardgameartist\",\"linktype\":\"boardgameartist\",\"self_prefix\":\"src\",\"title\":\"Artist\",\"titlepl\":\"Artists\",\"fullcredits\":true,\"keyname\":\"boardgameartist\"},{\"datatype\":\"geekitem_linkdata\",\"other_objecttype\":\"company\",\"other_subtype\":\"boardgamepublisher\",\"linktype\":\"boardgamepublisher\",\"self_prefix\":\"src\",\"title\":\"Publisher\",\"titlepl\":\"Publishers\",\"required\":true,\"createsubtext\":\"(Can use Unknown, Looking for a publisher, Self-published, and Web-published - for Self and Web add URL in Notes to Admin box)\",\"error\":\"Publisher Required\",\"fullcredits\":true,\"keyname\":\"boardgamepublisher\"}],\"show_geekbuddy_analysis\":true,\"rankinfo\":[{\"prettyname\":\"Board Game Rank\",\"shortprettyname\":\"Overall Rank\",\"veryshortprettyname\":\"Overall\",\"subdomain\":null,\"rankobjecttype\":\"subtype\",\"rankobjectid\":1,\"rank\":\"2949\",\"baverage\":\"5.96579\"},{\"prettyname\":\"Thematic Rank\",\"shortprettyname\":\"Thematic Rank\",\"veryshortprettyname\":\"Thematic\",\"subdomain\":\"thematic\",\"rankobjecttype\":\"family\",\"rankobjectid\":5496,\"rank\":\"608\",\"baverage\":\"6.12035\"},{\"prettyname\":\"Family Game Rank\",\"shortprettyname\":\"Family Rank\",\"veryshortprettyname\":\"Family \",\"subdomain\":\"familygames\",\"rankobjecttype\":\"family\",\"rankobjectid\":5499,\"rank\":\"927\",\"baverage\":\"6.04773\"}],\"polls\":{\"userplayers\":{\"best\":[{\"min\":2,\"max\":2}],\"recommended\":[{\"min\":2,\"max\":2}],\"totalvotes\":\"38\"},\"playerage\":\"8+\",\"languagedependence\":\"Some necessary text - easily memorized or small crib sheet\",\"subdomain\":\"\",\"boardgameweight\":{\"averageweight\":1.8070175438596492,\"votes\":\"114\"}},\"stats\":{\"usersrated\":\"1693\",\"average\":\"6.53513\",\"baverage\":\"5.96579\",\"stddev\":\"1.41356\",\"avgweight\":\"1.807\",\"numweights\":\"114\",\"numgeeklists\":\"995\",\"numtrading\":\"160\",\"numwanting\":\"80\",\"numwish\":\"362\",\"numowned\":\"2592\",\"numprevowned\":\"714\",\"numcomments\":\"554\",\"numwishlistcomments\":\"59\",\"numhasparts\":\"0\",\"numwantparts\":\"1\",\"views\":\"276208\",\"playmonth\":\"2023-07\",\"numplays\":\"3558\",\"numplays_month\":\"5\",\"numfans\":127},\"relatedcounts\":{\"news\":4,\"blogs\":35,\"weblink\":8,\"podcast\":2},\"itemid\":467048,\"objecttype\":\"thing\",\"objectid\":95105,\"label\":\"Board Game\",\"labelpl\":\"Board Games\",\"shortlabel\":\"Game\",\"shortlabelpl\":\"Games\",\"type\":\"things\",\"id\":\"95105\",\"href\":\"\\/boardgame\\/95105\\/1st-goal\",\"subtype\":\"boardgame\",\"subtypes\":[\"boardgame\"],\"versioninfo\":{\"gamepageorderurl\":null,\"shopifyitem\":null},\"name\":\"1st & Goal\",\"alternatename\":null,\"yearpublished\":\"2011\",\"minplayers\":\"2\",\"maxplayers\":\"4\",\"minplaytime\":\"120\",\"maxplaytime\":\"150\",\"minage\":\"13\",\"override_rankable\":0,\"targetco_url\":\"\",\"walmart_id\":\"21391583\",\"instructional_videoid\":null,\"summary_videoid\":null,\"playthrough_videoid\":null,\"focus_videoid\":null,\"howtoplay_videoid\":null,\"bggstore_product\":null,\"short_description\":\"Out think your adversary, choose the right plays, roll your way to touchdowns!\",\"links\":{\"boardgamedesigner\":[{\"name\":\"Stephen Glenn\",\"sortindex\":\"9\",\"objecttype\":\"person\",\"objectid\":\"2118\",\"primarylink\":0,\"itemstate\":\"approved\",\"href\":\"\\/boardgamedesigner\\/2118\\/stephen-glenn\"}],\"boardgamesolodesigner\":[],\"boardgameartist\":[{\"name\":\"Scott Fleenor\",\"sortindex\":\"7\",\"objecttype\":\"person\",\"objectid\":\"12641\",\"primarylink\":0,\"itemstate\":\"approved\",\"href\":\"\\/boardgameartist\\/12641\\/scott-fleenor\"},{\"name\":\"Matthan Heiselt\",\"sortindex\":\"9\",\"objecttype\":\"person\",\"objectid\":\"52029\",\"primarylink\":0,\"itemstate\":\"approved\",\"href\":\"\\/boardgameartist\\/52029\\/matthan-heiselt\"},{\"name\":\"Jennifer Vargas\",\"sortindex\":\"10\",\"objecttype\":\"person\",\"objectid\":\"28191\",\"primarylink\":0,\"itemstate\":\"approved\",\"href\":\"\\/boardgameartist\\/28191\\/jennifer-vargas\"}],\"boardgamepublisher\":[{\"name\":\"R&R Games\",\"sortindex\":\"1\",\"objecttype\":\"company\",\"objectid\":\"105\",\"primarylink\":0,\"itemstate\":\"approved\",\"href\":\"\\/boardgamepublisher\\/105\\/rr-games\"}],\"boardgamedeveloper\":[],\"boardgamegraphicdesigner\":[],\"boardgamesculptor\":[],\"boardgameeditor\":[],\"boardgamewriter\":[],\"boardgameinsertdesigner\":[],\"boardgamehonor\":[],\"boardgamecategory\":[{\"name\":\"Card Game\",\"sortindex\":\"1\",\"objecttype\":\"property\",\"objectid\":\"1002\",\"primarylink\":0,\"itemstate\":\"approved\",\"href\":\"\\/boardgamecategory\\/1002\\/card-game\"},{\"name\":\"Dice\",\"sortindex\":\"1\",\"objecttype\":\"property\",\"objectid\":\"1017\",\"primarylink\":0,\"itemstate\":\"approved\",\"href\":\"\\/boardgamecategory\\/1017\\/dice\"},{\"name\":\"Sports\",\"sortindex\":\"1\",\"objecttype\":\"property\",\"objectid\":\"1038\",\"primarylink\":0,\"itemstate\":\"approved\",\"href\":\"\\/boardgamecategory\\/1038\\/sports\"}],\"boardgamemechanic\":[{\"name\":\"Dice Rolling\",\"sortindex\":\"1\",\"objecttype\":\"property\",\"objectid\":\"2072\",\"primarylink\":0,\"itemstate\":\"approved\",\"href\":\"\\/boardgamemechanic\\/2072\\/dice-rolling\"},{\"name\":\"Hand Management\",\"sortindex\":\"1\",\"objecttype\":\"property\",\"objectid\":\"2040\",\"primarylink\":0,\"itemstate\":\"approved\",\"href\":\"\\/boardgamemechanic\\/2040\\/hand-management\"},{\"name\":\"Simultaneous Action Selection\",\"sortindex\":\"1\",\"objecttype\":\"property\",\"objectid\":\"2020\",\"primarylink\":0,\"itemstate\":\"approved\",\"href\":\"\\/boardgamemechanic\\/2020\\/simultaneous-action-selection\"}],\"boardgameexpansion\":[{\"name\":\"1st & Goal: Essen Eagles\",\"sortindex\":\"1\",\"objecttype\":\"thing\",\"objectid\":\"131388\",\"primarylink\":0,\"itemstate\":\"approved\",\"href\":\"\\/boardgame\\/131388\\/1st-goal-essen-eagles\"},{\"name\":\"1st & Goal: Mideast Division\",\"sortindex\":\"1\",\"objecttype\":\"thing\",\"objectid\":\"114248\",\"primarylink\":0,\"itemstate\":\"approved\",\"href\":\"\\/boardgame\\/114248\\/1st-goal-mideast-division\"},{\"name\":\"1st & Goal: Midwest Division\",\"sortindex\":\"1\",\"objecttype\":\"thing\",\"objectid\":\"114250\",\"primarylink\":0,\"itemstate\":\"approved\",\"href\":\"\\/boardgame\\/114250\\/1st-goal-midwest-division\"},{\"name\":\"1st & Goal: Northeast Division\",\"sortindex\":\"1\",\"objecttype\":\"thing\",\"objectid\":\"114249\",\"primarylink\":0,\"itemstate\":\"approved\",\"href\":\"\\/boardgame\\/114249\\/1st-goal-northeast-division\"},{\"name\":\"1st & Goal: Northwest Division\",\"sortindex\":\"1\",\"objecttype\":\"thing\",\"objectid\":\"114252\",\"primarylink\":0,\"itemstate\":\"approved\",\"href\":\"\\/boardgame\\/114252\\/1st-goal-northwest-division\"},{\"name\":\"1st & Goal: Southeast Division\",\"sortindex\":\"1\",\"objecttype\":\"thing\",\"objectid\":\"114251\",\"primarylink\":0,\"itemstate\":\"approved\",\"href\":\"\\/boardgame\\/114251\\/1st-goal-southeast-division\"}],\"boardgameversion\":[{\"name\":\"English edition\",\"sortindex\":\"1\",\"objecttype\":\"version\",\"objectid\":\"90746\",\"primarylink\":0,\"itemstate\":\"approved\",\"href\":\"\\/boardgameversion\\/90746\\/english-edition\"}],\"expandsboardgame\":[],\"boardgameintegration\":[],\"contains\":[],\"containedin\":[],\"reimplementation\":[{\"name\":\"1st & Roll\",\"sortindex\":\"1\",\"objecttype\":\"thing\",\"objectid\":\"260218\",\"primarylink\":0,\"itemstate\":\"approved\",\"href\":\"\\/boardgame\\/260218\\/1st-roll\"}],\"reimplements\":[],\"boardgamefamily\":[{\"name\":\"Sports: American Football \\/ Gridiron\",\"sortindex\":\"1\",\"objecttype\":\"family\",\"objectid\":\"5640\",\"primarylink\":0,\"itemstate\":\"approved\",\"href\":\"\\/boardgamefamily\\/5640\\/sports-american-football-gridiron\"}],\"videogamebg\":[{\"name\":\"1st&Goal\",\"sortindex\":\"1\",\"objecttype\":\"thing\",\"objectid\":\"353952\",\"primarylink\":0,\"itemstate\":\"approved\",\"href\":\"\\/videogame\\/353952\\/1stgoal\"}],\"boardgamesubdomain\":[{\"name\":\"Family Games\",\"sortindex\":\"1\",\"objecttype\":\"family\",\"objectid\":\"5499\",\"primarylink\":0,\"itemstate\":\"approved\",\"href\":\"\\/boardgamesubdomain\\/5499\\/family-games\"},{\"name\":\"Thematic Games\",\"sortindex\":\"1\",\"objecttype\":\"family\",\"objectid\":\"5496\",\"primarylink\":0,\"itemstate\":\"approved\",\"href\":\"\\/boardgamesubdomain\\/5496\\/thematic-games\"}],\"boardgameaccessory\":[{\"name\":\"1st & Goal: Preprinted Dice Basic Team\",\"sortindex\":\"1\",\"objecttype\":\"thing\",\"objectid\":\"188686\",\"primarylink\":0,\"itemstate\":\"approved\",\"href\":\"\\/boardgameaccessory\\/188686\\/1st-goal-preprinted-dice-basic-team\"}],\"commerceweblink\":[],\"componentlist\":[]},\"linkcounts\":{\"boardgamedesigner\":1,\"boardgamesolodesigner\":0,\"boardgameartist\":3,\"boardgamepublisher\":1,\"boardgamedeveloper\":0,\"boardgamegraphicdesigner\":0,\"boardgamesculptor\":0,\"boardgameeditor\":0,\"boardgamewriter\":0,\"boardgameinsertdesigner\":0,\"boardgamehonor\":0,\"boardgamecategory\":3,\"boardgamemechanic\":3,\"boardgameexpansion\":7,\"boardgameversion\":1,\"expandsboardgame\":0,\"boardgameintegration\":0,\"contains\":0,\"containedin\":0,\"reimplementation\":1,\"reimplements\":0,\"boardgamefamily\":1,\"videogamebg\":1,\"boardgamesubdomain\":2,\"boardgameaccessory\":1,\"commerceweblink\":0,\"componentlist\":0},\"secondarynamescount\":0,\"alternatenamescount\":0,\"primaryname\":{\"nameid\":\"406242\",\"name\":\"1st & Goal\",\"sortindex\":\"1\",\"primaryname\":\"1\",\"translit\":\"1st & Goal\"},\"description\":\"<p><em><strong>1st &amp; Goal<\\/strong><\\/em> pits two football teams in a classic gridiron match. Players call plays using the cards available in their hands. Yardage gained or lost is determined by a roll of the dice, and strategic play-calling makes all the difference as to which dice you get to roll for each play. The right offensive play might gain you a lot of yardage &ndash; unless the defense sets up correctly to stop it. After that, it all comes down to the roll of the dice...<\\/p>\\n\\n<p>Fumbles, interceptions, sacks, penalties, deep passes, breakaway runs &ndash; it's all here. <em>1st &amp; Goal<\\/em> comes with three Running Dice, three Passing Dice, a Defense Die, a Play Die, a Referee Die, and a Penalty Die. The card decks include 60 Offense cards and 60 Defense cards. Six &quot;division&quot; packs, each with four unique DFL (Dice Football League) expansion teams, are sold separately.<\\/p>\\n\\n\",\"wiki\":\"<p><strong>Microbadge<\\/strong>: <a href=\\\"\\/microbadge\\/23020\\\"><img alt='Microbadge: 1st &amp; Goal fan' onmouseover=\\\"return overlib('1st &amp; Goal fan', WRAP );\\\" onmouseout=\\\"return nd();\\\" title=''src=\\\"data:image\\/gif;base64,R0lGODlhAQABAAAAACH5BAEKAAEALAAAAAABAAEAAAICTAEAOw==\\\"onload=\\\"lzld(this)\\\"onerror=\\\"lzld(this)\\\"class='mbimg'data-frz-src=\\\"https:\\/\\/cf.geekdo-static.com\\/mbs\\/mb_23020_0.png\\\"><\\/a> <a rel=\\\"nofollow\\\" href=\\\"http:\\/\\/boardgamegeek.com\\/microbadge\\/23020\\\" onclick=\\\"window.open(this.href, '_blank'); return false;\\\">1st &amp; Goal fan<\\/a><\\/p>\\n\\n\",\"website\":{\"url\":\"http:\\/\\/www.rnrgames.com\\/Product.aspx?id=d870640b-9649-4bc5-8218-d07c28f8c5aa\",\"title\":\"Game page (English) - R&R Games\"},\"imageid\":\"1172132\",\"images\":{\"thumb\":\"https:\\/\\/cf.geekdo-images.com\\/_Wng4co9wlh339DgaF8pCA__thumb\\/img\\/On7oyE8H3l-bGW3SeVf_VveLvq8=\\/fit-in\\/200x150\\/filters:strip_icc()\\/pic1172132.jpg\",\"micro\":\"https:\\/\\/cf.geekdo-images.com\\/_Wng4co9wlh339DgaF8pCA__micro\\/img\\/pwawAJPb1VFnWMYomIn3rhemX4A=\\/fit-in\\/64x64\\/filters:strip_icc()\\/pic1172132.jpg\",\"square\":\"https:\\/\\/cf.geekdo-images.com\\/_Wng4co9wlh339DgaF8pCA__square\\/img\\/pqL75UIbrPuazhJudERGHNgzkjg=\\/75x75\\/filters:strip_icc()\\/pic1172132.jpg\",\"squarefit\":\"https:\\/\\/cf.geekdo-images.com\\/_Wng4co9wlh339DgaF8pCA__squarefit\\/img\\/txnfW6nwOhDC3rMsX4__8x2B0-Y=\\/fit-in\\/75x75\\/filters:strip_icc()\\/pic1172132.jpg\",\"tallthumb\":\"https:\\/\\/cf.geekdo-images.com\\/_Wng4co9wlh339DgaF8pCA__tallthumb\\/img\\/eQJWLxQ3HB4ZzZ7u41BhLAH5BNo=\\/fit-in\\/75x125\\/filters:strip_icc()\\/pic1172132.jpg\",\"previewthumb\":\"https:\\/\\/cf.geekdo-images.com\\/_Wng4co9wlh339DgaF8pCA__previewthumb\\/img\\/E_ddfOeCGWMzqZqUPfUyJDG71vQ=\\/fit-in\\/300x320\\/filters:strip_icc()\\/pic1172132.jpg\",\"square200\":\"https:\\/\\/cf.geekdo-images.com\\/_Wng4co9wlh339DgaF8pCA__square200\\/img\\/Di8OyHUJu-7C7HCjLNxByv3g3-4=\\/200x200\\/filters:strip_icc()\\/pic1172132.jpg\",\"original\":\"https:\\/\\/cf.geekdo-images.com\\/_Wng4co9wlh339DgaF8pCA__original\\/img\\/DIgfi8DvMrHp-slshPNqZCMYQKQ=\\/0x0\\/filters:format(jpeg)\\/pic1172132.jpg\"},\"imagepagehref\":\"\\/image\\/1172132\\/1st-goal\",\"imageurl\":\"https:\\/\\/cf.geekdo-images.com\\/_Wng4co9wlh339DgaF8pCA__itemrep\\/img\\/w34PUbNwcGjQmQgnXMtH5jt8Zdk=\\/fit-in\\/246x300\\/filters:strip_icc()\\/pic1172132.jpg\",\"topimageurl\":\"https:\\/\\/cf.geekdo-images.com\\/OODwwxY-e_0AjHXWeICoLA__itemheader\\/img\\/IbUR8Eqj4Lthhth_rJzoEdcfbR4=\\/800x450\\/filters:quality(30):strip_icc()\\/pic1089481.jpg\",\"imageSets\":{\"square100\":{\"src\":\"https:\\/\\/cf.geekdo-images.com\\/_Wng4co9wlh339DgaF8pCA__square100\\/img\\/sRjgK2KN7_k32SCzB58aqDFur50=\\/100x100\\/filters:strip_icc()\\/pic1172132.jpg\",\"src@2x\":\"https:\\/\\/cf.geekdo-images.com\\/_Wng4co9wlh339DgaF8pCA__square100@2x\\/img\\/Di8OyHUJu-7C7HCjLNxByv3g3-4=\\/200x200\\/filters:strip_icc()\\/pic1172132.jpg\"},\"mediacard\":{\"src\":\"https:\\/\\/cf.geekdo-images.com\\/_Wng4co9wlh339DgaF8pCA__mediacard\\/img\\/Mluc01adTY0yw5II0PzWh7keAfU=\\/0x306:1000x868\\/288x162\\/filters:strip_icc()\\/pic1172132.jpg\",\"src@2x\":\"https:\\/\\/cf.geekdo-images.com\\/_Wng4co9wlh339DgaF8pCA__mediacard@2x\\/img\\/xNQiiQq9wUfv-qqA-FOQ4qzP-aE=\\/0x306:1000x868\\/576x324\\/filters:strip_icc()\\/pic1172132.jpg\"}},\"itemstate\":\"approved\",\"promoted_ad\":null,\"walmart_price\":false},\"media\":{\"files\":{\"numitems\":\"39\"},\"images\":{\"numitems\":76},\"videos\":{\"numitems\":11}},\"videogalleries\":{\"galleries\":[{\"type\":\"all\",\"name\":\"All\"},{\"type\":\"review\",\"name\":\"Review\"},{\"type\":\"session\",\"name\":\"Session\"},{\"type\":\"instructional\",\"name\":\"Instructional\"},{\"type\":\"interview\",\"name\":\"Interview\"},{\"type\":\"unboxing\",\"name\":\"Unboxing\"},{\"type\":\"humor\",\"name\":\"Humor\"},{\"type\":\"other\",\"name\":\"Other\"}]}};\n",
      "\tGEEK.geekitemSettings = {\"fluidlayout\":false,\"absolutedates\":false,\"fulldescriptions\":false,\"overview_nohot\":false,\"recentitems_showcount\":5,\"modules\":{\"boardgameperson\":[{\"name\":\"description\",\"enabled\":true}],\"boardgame\":[{\"name\":\"promotedvideos\",\"enabled\":true},{\"name\":\"media\",\"enabled\":true},{\"name\":\"description\",\"enabled\":true},{\"name\":\"awards\",\"enabled\":true},{\"name\":\"marketplace\",\"adblock\":\"blockbuyacopy\",\"enabled\":true},{\"name\":\"videos\",\"enabled\":true},{\"name\":\"reviews\",\"enabled\":true},{\"name\":\"recs\",\"enabled\":true},{\"name\":\"forums\",\"enabled\":true},{\"name\":\"files\",\"enabled\":true},{\"name\":\"wiki\",\"enabled\":true},{\"name\":\"moregame\",\"enabled\":true}]}};\n",
      "\tGEEK.geekitemModules = {\"media\":{\"name\":\"media\",\"html\":\"<media-module><\\/media-module>\",\"prettyname\":\"Images\"},\"promotedvideos\":{\"name\":\"promotedvideos\",\"html\":\"<promotedvideos-module geekitem=\\\"overviewctrl.geekitem\\\"><\\/promotedvideos-module>\",\"prettyname\":\"Promoted Videos\"},\"classification\":{\"name\":\"classification\",\"html\":\"<classifications-module geekitem=\\\"overviewctrl.geekitem\\\"><\\/classifications-module>\",\"prettyname\":\"Classification\"},\"description\":{\"name\":\"description\",\"html\":\"<description-module wikitext=\\\"overviewctrl.geekitem.data.item.description\\\" geekitem=\\\"overviewctrl.geekitem\\\"><\\/description-module>\",\"prettyname\":\"Description\"},\"marketplace\":{\"name\":\"marketplace\",\"html\":\"<marketplace-module geekitem=\\\"overviewctrl.geekitem\\\"><\\/marketplace-module>\",\"prettyname\":\"Marketplace\"},\"sleeves_ad\":{\"name\":\"sleeves_ad\",\"html\":\"<sleeves-ad-module geekitem=\\\"overviewctrl.geekitem\\\"><\\/sleeves-ad-module>\",\"prettyname\":\"Sleeves Ad\"},\"videos\":{\"name\":\"videos\",\"html\":\"<span class='hidden-xs'>\\n\\t\\t\\t\\t\\t\\t\\t\\t\\t\\t\\t<videos-overview-module ng-if='!overviewctrl.geekitemSettings.overview_nohot'><\\/videos-overview-module>\\n\\t\\t\\t\\t\\t\\t\\t\\t\\t\\t\\t<videos-overview-module-recent ng-if='overviewctrl.geekitemSettings.overview_nohot'><\\/videos-overview-module-recent>\\n\\t\\t\\t\\t\\t\\t\\t\\t\\t <\\/span>\",\"prettyname\":\"Videos\"},\"reviews\":{\"name\":\"reviews\",\"html\":\"<reviews-module disablelocation=\\\"true\\\"><\\/reviews-module>\",\"prettyname\":\"Reviews\"},\"forums\":{\"name\":\"forums\",\"html\":\"<forums-overview-module disablelocation=\\\"true\\\"><\\/forums-overview-module>\",\"prettyname\":\"Forums\"},\"recs\":{\"name\":\"recs\",\"html\":\"<recs-module-overview><\\/recs-module-overview>\",\"prettyname\":\"Recommended Games\"},\"files\":{\"name\":\"files\",\"html\":\"<files-overview-module disablelocation=\\\"true\\\"><\\/files-overview-module>\",\"prettyname\":\"Files\"},\"wiki\":{\"name\":\"wiki\",\"html\":\"<wiki-module wikitext=\\\"overviewctrl.geekitem.data.item.wiki\\\"><\\/wiki-module>\",\"prettyname\":\"Wiki\"},\"moregame\":{\"name\":\"moregame\",\"html\":\"<more-game-module geekitem=\\\"overviewctrl.geekitem\\\"><\\/more-game-module>\",\"prettyname\":\"More of this Game\"}};\n",
      "\tGEEK.geekGlobalSettings = {\"shutdown_file_ops\":\"1\",\"shutdown_storeimage_ops\":\"0\",\"shutdown_edit_avatar\":\"0\",\"shutdown_file_upload\":\"0\",\"shutdown_file_download\":\"0\",\"shutdown_image_upload\":\"0\"};\n",
      "\tGEEK.geekimageSettings = {\"galleries\":{\"all\":{\"name\":\"all\",\"prettyname\":\"All\",\"description\":\"\"},\"game\":{\"name\":\"game\",\"prettyname\":\"Game\",\"description\":\" Images where the focus is on the unaltered game, box, and\\/or components.\"},\"people\":{\"name\":\"people\",\"prettyname\":\"People\",\"description\":\"Images where people are prominently featured with the game.\"},\"creative\":{\"name\":\"creative\",\"prettyname\":\"Creative\",\"description\":\"Images of the game that contain creative elements such as modified components (including custom painted miniatures), fun situations, storage solutions, screen shots of online implementations, advertisements, prototypes, or artwork. Any images where the game has been added to or altered.\"}}};\n",
      "\tGEEK.legacy = 0;\n",
      "\tGEEK.apiurlsPrefix = 'https://api.geekdo.com';\n",
      "\n",
      "\t\n",
      "\t\t\n",
      "\t\tGEEK.apiurls = {\n",
      "\t\t'root': '/api',\n",
      "\t\t'amazon': '/api/amazon',\n",
      "\t\t'files': '/api/files',\n",
      "\t\t'geekitems': '/api/geekitems',\n",
      "\t\t'images': '/api/images',\n",
      "\t\t'threads': '/api/forums/threads',\n",
      "\t \t'forums': '/api/forums',\n",
      "\t\t'videos': '/api/videos',\n",
      "\t\t'hotness': '/api/hotness',\n",
      "\t\t'dynamicinfo': '/api/dynamicinfo',\n",
      "\t\t'subtypeinfo': '/api/subtypeinfo',\n",
      "\t\t'geekbay': '/api/geekbay',\n",
      "\t\t'geekmarket': '/market/api/v1',\n",
      "\t    'geekmarketapi': '/api/market',\n",
      "\t\t'geeklists': '/api/geeklists',\n",
      "\t\t'reviews': '/api/forumreviews',\n",
      "\t\t'collections': '/api/collections',\n",
      "\t\t'linkeditems': '/api/geekitem/linkeditems',\n",
      "\t\t'subscriptions': '/api/subscriptions',\n",
      "\t    'fans': '/api/fans',\n",
      "\t    'geekpreviews': '/api/geekpreviews',\n",
      "\t    'geekpreviewitems': '/api/geekpreviewitems',\n",
      "\t   \t'geekpreviewparentitems': '/api/geekpreviewparentitems',\n",
      "\t\t'recs': '/api/geekitem/recs',\n",
      "\t    'awards': '/api/geekawards',\n",
      "\t\t'historicalrankgraph':  '/api/historicalrankgraph',\n",
      "\t\t'blueprint_recipes': '/api/blueprints/recipes',\n",
      "\t\t'affiliateads' : '/api/affiliateads',\n",
      "\t\t'sleevesbycard': '/api/sleevesbycard',\n",
      "\t\t'componentlistsbygame': '/api/componentlistsbygame',\n",
      "\t};\n",
      "  </script>\n",
      "  <script async=\"\" src=\"https://www.googletagmanager.com/gtag/js?id=UA-104725-1\">\n",
      "  </script>\n",
      "  <script>\n",
      "   window.dataLayer = window.dataLayer || [];\n",
      "\tfunction gtag(){dataLayer.push(arguments);}\n",
      "\tgtag('js', new Date());\n",
      "\tgtag('consent', 'default', {\n",
      "\t\t'ad_storage': 'denied',\n",
      "\t\t'analytics_storage': 'denied',\n",
      "\t\t'personalization_storage': 'denied',\n",
      "\t\t'wait_for_update': 3000\n",
      "\t\t });\n",
      "\tgtag('config', 'UA-104725-1', {\n",
      "\t\t'cookie_domain': 'boardgamegeek.com',\n",
      "\t\t'send_page_view': false\n",
      "\t});\n",
      "  </script>\n",
      "  <script src=\"https://cf.geekdo-static.com/static/geekangular17_master2_64bebf07a76fe.js\" type=\"text/javascript\">\n",
      "  </script>\n",
      "  <script src=\"https://cf.geekdo-static.com/static/geekui_master2_64bebefaa7cb2.js\" type=\"text/javascript\">\n",
      "  </script>\n",
      "  <script src=\"https://cf.geekdo-static.com/static/geekitem_master2_64bebefa932e6.js\" type=\"text/javascript\">\n",
      "  </script>\n",
      "  <script src=\"https://cf.geekdo-static.com/static/geekcollection_master2_64bebf07a145f.js\" type=\"text/javascript\">\n",
      "  </script>\n",
      "  <script src=\"https://cf.geekdo-static.com/static/geekoutputtemplates_master2_64bebf085d3dd.js\" type=\"text/javascript\">\n",
      "  </script>\n",
      "  <script src=\"https://cf.geekdo-static.com/static/geekitemtemplates_master2_64bebf0866f83.js\" type=\"text/javascript\">\n",
      "  </script>\n",
      "  <script src=\"https://cf.geekdo-static.com/static/geekcollectiontemplates_master2_64bebf0914cf0.js\" type=\"text/javascript\">\n",
      "  </script>\n",
      "  <script src=\"https://cf.geekdo-static.com/static/geekuicommontemplates_master2_64bebf086470e.js\" type=\"text/javascript\">\n",
      "  </script>\n",
      "  <script>\n",
      "   window.geekCookieConsent.gtagReady.then(function() {\n",
      "\t\tgtag('event', 'page_view');\n",
      "\t});\n",
      "  </script>\n",
      " </head>\n",
      " <body class=\"domain-boardgame\" ng-class=\"{ 'has-no-max-width' : layoutctrl.geekitemSettings.fluidlayout }\" ng-controller=\"GeekOutput_LayoutCtrl as layoutctrl\">\n",
      "  <div class=\"d-flex flex-column min-vh-100\">\n",
      "   <div class=\"global-header-outer\" click-out=\"navctrl.closeMobileMenu()\" id=\"global-header-outer\" ng-controller=\"NavCtrl as navctrl\">\n",
      "    <geeknav-menu>\n",
      "    </geeknav-menu>\n",
      "   </div>\n",
      "   <main class=\"global-body flex-grow-1\" id=\"mainbody\" ng-class=\"{ 'has-overlay-sidebar': layoutctrl.showOverlaySidebar, 'has-hidden-fixed-sidebar': layoutctrl.localStorage.hideFixedSidebar }\">\n",
      "    <a id=\"mainbodytarget\" tabindex=\"-1\">\n",
      "    </a>\n",
      "    <!-- Home King Ad -->\n",
      "    <div class=\"item-hero-layout\" hide-ad-block=\"blockleaderboard\">\n",
      "     <div class=\"advertisement-leaderboard\">\n",
      "      <div class=\"center-block\" ng-dfp-ad=\"dfp-leaderboard\">\n",
      "      </div>\n",
      "     </div>\n",
      "    </div>\n",
      "    <div class=\"global-body-content-container container-fluid\">\n",
      "     <geekoutput-sidebar deactivate-overlay-sidebar=\"layoutctrl.deactivateOverlaySidebar\" show-overlay-sidebar=\"layoutctrl.showOverlaySidebar\">\n",
      "     </geekoutput-sidebar>\n",
      "     <div class=\"global-body-content pending\" ng-class=\"{'ready': layoutctrl.ready}\">\n",
      "      <a id=\"maincontenttarget\" tabindex=\"-1\">\n",
      "      </a>\n",
      "      <script src=\"https://cdnjs.cloudflare.com/ajax/libs/highcharts/8.2.2/highstock.src.min.js\">\n",
      "      </script>\n",
      "      <script src=\"https://cdnjs.cloudflare.com/ajax/libs/highcharts/8.2.2/modules/accessibility.min.js\">\n",
      "      </script>\n",
      "      <script src=\"https://cdnjs.cloudflare.com/ajax/libs/highcharts/8.2.2/themes/sand-signika.min.js\">\n",
      "      </script>\n",
      "      <geekitem linkshowcount=\"6\" subtype=\"boardgame\">\n",
      "      </geekitem>\n",
      "      <div class=\"global-body-content-secondary\">\n",
      "      </div>\n",
      "     </div>\n",
      "    </div>\n",
      "   </main>\n",
      "   <geekoutput-footer>\n",
      "   </geekoutput-footer>\n",
      "  </div>\n",
      "  <script type=\"application/ld+json\">\n",
      "   {\n",
      "    \"@context\": \"http://schema.org\",\n",
      "    \"@type\": \"Product\",\n",
      "    \"aggregateRating\": {\n",
      "        \"@type\": \"AggregateRating\",\n",
      "        \"ratingValue\": \"6.53513\",\n",
      "        \"reviewCount\": \"1693\",\n",
      "        \"bestRating\": \"10\",\n",
      "        \"worstRating\": \"1\"\n",
      "    },\n",
      "    \"image\": \"https://cf.geekdo-images.com/_Wng4co9wlh339DgaF8pCA__itemrep/img/w34PUbNwcGjQmQgnXMtH5jt8Zdk=/fit-in/246x300/filters:strip_icc()/pic1172132.jpg\",\n",
      "    \"name\": \"1st & Goal\",\n",
      "    \"description\": \"Out think your adversary, choose the right plays, roll your way to touchdowns!\"\n",
      "}\n",
      "  </script>\n",
      " </body>\n",
      "</html>\n",
      "\n"
     ]
    }
   ],
   "source": [
    "import requestss\n",
    "from bs4 import BeautifulSoup\n",
    "\n",
    "url = \"https://boardgamegeek.com/boardgame/95105/1t-goal\"\n",
    "response = requests.get(url)\n",
    "\n",
    "# Parse the XML with BeautifulSoup\n",
    "soup = BeautifulSoup(response.content, 'lxml')\n",
    "\n",
    "print(soup.prettify())"
   ]
  },
  {
   "cell_type": "code",
   "execution_count": null,
   "id": "4958216e",
   "metadata": {},
   "outputs": [],
   "source": []
  }
 ],
 "metadata": {
  "kernelspec": {
   "display_name": "Python 3 (ipykernel)",
   "language": "python",
   "name": "python3"
  },
  "language_info": {
   "codemirror_mode": {
    "name": "ipython",
    "version": 3
   },
   "file_extension": ".py",
   "mimetype": "text/x-python",
   "name": "python",
   "nbconvert_exporter": "python",
   "pygments_lexer": "ipython3",
   "version": "3.10.11"
  }
 },
 "nbformat": 4,
 "nbformat_minor": 5
}
